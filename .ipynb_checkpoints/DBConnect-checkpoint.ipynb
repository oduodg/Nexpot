{
 "cells": [
  {
   "cell_type": "code",
   "execution_count": 8,
   "metadata": {},
   "outputs": [],
   "source": [
    "import pymysql as db\n",
    "import import_ipynb\n",
    "import YouTubeAPI as youtube\n",
    "import place_extract_kakaomap_api as kakao"
   ]
  },
  {
   "cell_type": "code",
   "execution_count": 9,
   "metadata": {},
   "outputs": [],
   "source": [
    "local = 'nexpot.c43ypw0liaa2.ap-northeast-2.rds.amazonaws.com'  # aws rds 접근\n",
    "con = db.connect(\n",
    "    host=local,\n",
    "    user='admin',\n",
    "    db='Nexpot',\n",
    "    password='qwertyuiop123',\n",
    "    charset='utf8'\n",
    ")\n",
    "cur = con.cursor()"
   ]
  },
  {
   "cell_type": "code",
   "execution_count": 10,
   "metadata": {},
   "outputs": [
    {
     "ename": "TypeError",
     "evalue": "can only concatenate str (not \"int\") to str",
     "output_type": "error",
     "traceback": [
      "\u001b[1;31m---------------------------------------------------------------------------\u001b[0m",
      "\u001b[1;31mTypeError\u001b[0m                                 Traceback (most recent call last)",
      "\u001b[1;32m<ipython-input-10-116ddc5e9e17>\u001b[0m in \u001b[0;36m<module>\u001b[1;34m\u001b[0m\n\u001b[0;32m      1\u001b[0m \u001b[1;32mfor\u001b[0m \u001b[0mi\u001b[0m \u001b[1;32min\u001b[0m \u001b[0mrange\u001b[0m\u001b[1;33m(\u001b[0m\u001b[0mlen\u001b[0m\u001b[1;33m(\u001b[0m\u001b[0myoutube\u001b[0m\u001b[1;33m.\u001b[0m\u001b[0mtravel_df\u001b[0m\u001b[1;33m)\u001b[0m\u001b[1;33m)\u001b[0m\u001b[1;33m:\u001b[0m  \u001b[1;31m# youtube 테이블\u001b[0m\u001b[1;33m\u001b[0m\u001b[1;33m\u001b[0m\u001b[0m\n\u001b[1;32m----> 2\u001b[1;33m     \u001b[0msql\u001b[0m \u001b[1;33m=\u001b[0m \u001b[1;34m\"insert into youtube values('\"\u001b[0m \u001b[1;33m+\u001b[0m \u001b[0myoutube\u001b[0m\u001b[1;33m.\u001b[0m\u001b[0mtravel_df\u001b[0m\u001b[1;33m[\u001b[0m\u001b[1;34m'VID'\u001b[0m\u001b[1;33m]\u001b[0m\u001b[1;33m[\u001b[0m\u001b[0mi\u001b[0m\u001b[1;33m]\u001b[0m \u001b[1;33m+\u001b[0m\u001b[1;34m\"','\"\u001b[0m\u001b[1;33m+\u001b[0m\u001b[0myoutube\u001b[0m\u001b[1;33m.\u001b[0m\u001b[0mtravel_df\u001b[0m\u001b[1;33m[\u001b[0m\u001b[1;34m'channelname'\u001b[0m\u001b[1;33m]\u001b[0m\u001b[1;33m[\u001b[0m\u001b[0mi\u001b[0m\u001b[1;33m]\u001b[0m \u001b[1;33m+\u001b[0m\u001b[0;31m \u001b[0m\u001b[0;31m\\\u001b[0m\u001b[1;33m\u001b[0m\u001b[1;33m\u001b[0m\u001b[0m\n\u001b[0m\u001b[0;32m      3\u001b[0m     \u001b[1;34m\"','\"\u001b[0m \u001b[1;33m+\u001b[0m \u001b[0myoutube\u001b[0m\u001b[1;33m.\u001b[0m\u001b[0mtravel_df\u001b[0m\u001b[1;33m[\u001b[0m\u001b[1;34m'Title'\u001b[0m\u001b[1;33m]\u001b[0m\u001b[1;33m[\u001b[0m\u001b[0mi\u001b[0m\u001b[1;33m]\u001b[0m \u001b[1;33m+\u001b[0m \u001b[1;34m\"','\"\u001b[0m\u001b[1;33m+\u001b[0m \u001b[0myoutube\u001b[0m\u001b[1;33m.\u001b[0m\u001b[0mtravel_df\u001b[0m\u001b[1;33m[\u001b[0m\u001b[1;34m'Thumbnail'\u001b[0m\u001b[1;33m]\u001b[0m\u001b[1;33m[\u001b[0m\u001b[0mi\u001b[0m\u001b[1;33m]\u001b[0m \u001b[1;33m+\u001b[0m \u001b[1;34m\"','\"\u001b[0m \u001b[1;33m+\u001b[0m\u001b[0;31m \u001b[0m\u001b[0;31m\\\u001b[0m\u001b[1;33m\u001b[0m\u001b[1;33m\u001b[0m\u001b[0m\n\u001b[0;32m      4\u001b[0m     \u001b[0myoutube\u001b[0m\u001b[1;33m.\u001b[0m\u001b[0mtravel_df\u001b[0m\u001b[1;33m[\u001b[0m\u001b[1;34m'Time'\u001b[0m\u001b[1;33m]\u001b[0m\u001b[1;33m[\u001b[0m\u001b[0mi\u001b[0m\u001b[1;33m]\u001b[0m \u001b[1;33m+\u001b[0m \u001b[1;34m\"','\"\u001b[0m \u001b[1;33m+\u001b[0m \u001b[0myoutube\u001b[0m\u001b[1;33m.\u001b[0m\u001b[0mtravel_df\u001b[0m\u001b[1;33m[\u001b[0m\u001b[1;34m'Views'\u001b[0m\u001b[1;33m]\u001b[0m\u001b[1;33m[\u001b[0m\u001b[0mi\u001b[0m\u001b[1;33m]\u001b[0m \u001b[1;33m+\u001b[0m\u001b[1;34m\"','\"\u001b[0m \u001b[1;33m+\u001b[0m\u001b[0;31m \u001b[0m\u001b[0;31m\\\u001b[0m\u001b[1;33m\u001b[0m\u001b[1;33m\u001b[0m\u001b[0m\n\u001b[0;32m      5\u001b[0m     \u001b[0myoutube\u001b[0m\u001b[1;33m.\u001b[0m\u001b[0mtravel_df\u001b[0m\u001b[1;33m[\u001b[0m\u001b[1;34m'Likes'\u001b[0m\u001b[1;33m]\u001b[0m\u001b[1;33m[\u001b[0m\u001b[0mi\u001b[0m\u001b[1;33m]\u001b[0m \u001b[1;33m+\u001b[0m \u001b[1;34m\"','\"\u001b[0m \u001b[1;33m+\u001b[0m \u001b[0myoutube\u001b[0m\u001b[1;33m.\u001b[0m\u001b[0mtravel_df\u001b[0m\u001b[1;33m[\u001b[0m\u001b[1;34m'Comments'\u001b[0m\u001b[1;33m]\u001b[0m\u001b[1;33m[\u001b[0m\u001b[0mi\u001b[0m\u001b[1;33m]\u001b[0m \u001b[1;33m+\u001b[0m \u001b[1;34m\"')\"\u001b[0m\u001b[1;33m\u001b[0m\u001b[1;33m\u001b[0m\u001b[0m\n",
      "\u001b[1;31mTypeError\u001b[0m: can only concatenate str (not \"int\") to str"
     ]
    }
   ],
   "source": [
    "for i in range(len(youtube.travel_df)):  # youtube 테이블\n",
    "    sql = \"insert into youtube values('\" + youtube.travel_df['VID'][i] +\"','\"+youtube.travel_df['channelname'][i] + \\\n",
    "    \"','\" + youtube.travel_df['Title'][i] + \"','\"+ youtube.travel_df['Thumbnail'][i] + \"','\" + \\\n",
    "    youtube.travel_df['Time'][i] + \"','\" + youtube.travel_df['Views'][i] +\"','\" + \\\n",
    "    youtube.travel_df['Likes'][i] + \"','\" + youtube.travel_df['Comments'][i] + \"')\"\n",
    "    try:\n",
    "        cur.execute(sql)\n",
    "        con.commit()\n",
    "    except:\n",
    "        con.rollback()"
   ]
  },
  {
   "cell_type": "code",
   "execution_count": 5,
   "metadata": {},
   "outputs": [],
   "source": [
    "for i in range(len(kakao.kakao_df)):   # places 테이블\n",
    "    idx = f'{i+1}'\n",
    "    sql = \"insert into places values('\" + idx + \"','\" + youtube.vid + \"','\" + \\\n",
    "    kakao.kakao_df['placeID'][i] + \"','\" + kakao.kakao_df['pname'][i] + \"','\" + \\\n",
    "    kakao.kakao_df['paddress'][i] +\"','\" + kakao.kakao_df['pdo'][i] + \"','\" + \\\n",
    "    kakao.kakao_df['psi'][i] +\"','\" + kakao.kakao_df['pphone'][i] + \"','\" + kakao.kakao_df['pdaumURL'][i] +\\\n",
    "    \"','\" + kakao.kakao_df['pX'][i]+\"','\" + kakao.kakao_df['pY'][i] + \"')\"\n",
    "    try:\n",
    "        cur.execute(sql)\n",
    "        con.commit()\n",
    "    except:\n",
    "        con.rollback()\n",
    "        \n",
    "con.close()"
   ]
  }
 ],
 "metadata": {
  "kernelspec": {
   "display_name": "Python 3",
   "language": "python",
   "name": "python3"
  },
  "language_info": {
   "codemirror_mode": {
    "name": "ipython",
    "version": 3
   },
   "file_extension": ".py",
   "mimetype": "text/x-python",
   "name": "python",
   "nbconvert_exporter": "python",
   "pygments_lexer": "ipython3",
   "version": "3.8.5"
  }
 },
 "nbformat": 4,
 "nbformat_minor": 4
}
