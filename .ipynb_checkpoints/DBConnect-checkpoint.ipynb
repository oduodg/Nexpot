{
 "cells": [
  {
   "cell_type": "code",
   "execution_count": 12,
   "metadata": {},
   "outputs": [
    {
     "name": "stdout",
     "output_type": "stream",
     "text": [
      "importing Jupyter notebook from place_extract_kakaomap_api.ipynb\n",
      "['영양 자작나무숲 ', '영주무섬다리', '예천 뿅뿅다리', '포항 곤륜산', '예천 회룡포 전망대', '포항 내연산 소금강 전망대', '포항 스페이스워크', '청송 송소고택', '포항 이가리 닻 전망대', '포항 호미반도', '울릉해담길', '예천 활체험센터', '삼강문화단지', '문경 관광사격장과 에코랄라', '포항 장기읍성', '청도 청도읍성', '문경 고모산성']\n"
     ]
    }
   ],
   "source": [
    "import pymysql as db\n",
    "import import_ipynb\n",
    "import YouTubeAPI as youtube\n",
    "import place_extract_kakaomap_api as kakao"
   ]
  },
  {
   "cell_type": "code",
   "execution_count": 13,
   "metadata": {},
   "outputs": [],
   "source": [
    "local = 'graduate-project.c43ypw0liaa2.ap-northeast-2.rds.amazonaws.com'  # aws rds 접근\n",
    "con = db.connect(\n",
    "    host=local,\n",
    "    user='admin',\n",
    "    db='project',\n",
    "    password='qwertyuiop123',\n",
    "    charset='utf8'\n",
    ")\n",
    "cur = con.cursor()"
   ]
  },
  {
   "cell_type": "code",
   "execution_count": 14,
   "metadata": {},
   "outputs": [],
   "source": [
    "for i in range(len(youtube.travel_df)):  # youtube 테이블\n",
    "    sql = \"insert into youtube values('\" + youtube.channername + \"','\" + \\\n",
    "    youtube.vdf['IDS'][i] + \"','\" + youtube.travel_df['title'][i] + \\\n",
    "    \"','\" + youtube.travel_df['views'][i] +\"','\" + youtube.travel_df['likes'][i] + \\\n",
    "    \"','\" + youtube.travel_df['comments'][i] + \"')\"\n",
    "    try:\n",
    "        cur.execute(sql)\n",
    "        con.commit()\n",
    "    except:\n",
    "        con.rollback()"
   ]
  },
  {
   "cell_type": "code",
   "execution_count": 17,
   "metadata": {},
   "outputs": [],
   "source": [
    "for i in range(len(kakao.kakao_df)):   # places 테이블\n",
    "    idx = f'{i+1}'\n",
    "    sql = \"insert into places values('\" + idx + \"','\" + youtube.vid + \"','\" + \\\n",
    "    kakao.kakao_df['placeID'][i] + \"','\" + kakao.kakao_df['pname'][i] + \"','\" + \\\n",
    "    kakao.kakao_df['paddress'][i] +\"','\" + kakao.kakao_df['pdo'][i] + \"','\" + \\\n",
    "    kakao.kakao_df['psi'][i] +\"','\" + kakao.kakao_df['pphone'][i] + \"','\" + kakao.kakao_df['pdaumURL'][i] +\\\n",
    "    \"','\" + kakao.kakao_df['pX'][i]+\"','\" + kakao.kakao_df['pY'][i] + \"')\"\n",
    "    try:\n",
    "        cur.execute(sql)\n",
    "        con.commit()\n",
    "    except:\n",
    "        con.rollback()\n",
    "        \n",
    "con.close()"
   ]
  }
 ],
 "metadata": {
  "kernelspec": {
   "display_name": "Python 3",
   "language": "python",
   "name": "python3"
  },
  "language_info": {
   "codemirror_mode": {
    "name": "ipython",
    "version": 3
   },
   "file_extension": ".py",
   "mimetype": "text/x-python",
   "name": "python",
   "nbconvert_exporter": "python",
   "pygments_lexer": "ipython3",
   "version": "3.8.5"
  }
 },
 "nbformat": 4,
 "nbformat_minor": 4
}
