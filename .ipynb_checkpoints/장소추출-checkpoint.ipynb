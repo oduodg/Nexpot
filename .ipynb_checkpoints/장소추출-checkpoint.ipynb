{
 "cells": [
  {
   "cell_type": "code",
   "execution_count": 48,
   "metadata": {},
   "outputs": [],
   "source": [
    "import pandas as pd\n",
    "from PyKomoran import *\n",
    "import warnings \n",
    "import platform\n",
    "warnings.filterwarnings('ignore')\n",
    "import re\n",
    "from eunjeon import Mecab\n",
    "from konlpy.tag import Okt"
   ]
  },
  {
   "cell_type": "code",
   "execution_count": 43,
   "metadata": {},
   "outputs": [
    {
     "name": "stdout",
     "output_type": "stream",
     "text": [
      "총 문자 개수 :  2\n",
      "문장 순서가 0부터 시작이에요!\n",
      "몇번째 문장 분석?? : 1\n"
     ]
    }
   ],
   "source": [
    "#%% Komoran 작동\n",
    "input_file = open('description.txt', 'r', encoding = 'UTF8')   # 수집한 댓글들 불러오기\n",
    "readline = input_file.readlines()                             # 줄별로 읽어와서 리스트에 저장\n",
    "print(\"총 문자 개수 : \", len(readline))\n",
    "print(\"문장 순서가 0부터 시작이에요!\")\n",
    "num = int(input(\"몇번째 문장 분석?? : \"))                      # 문장 순서가 0부터 시작이에요!\n",
    "home_path = \"C:\\\\Users\\\\USER\\\\Desktop\\\\Hongik\\\\3_2\\\\데이테캡스톤(프로젝트)\\\\팀플\\\\\"\n"
   ]
  },
  {
   "cell_type": "code",
   "execution_count": 79,
   "metadata": {},
   "outputs": [],
   "source": [
    "def cleanText(readData): \n",
    "    #텍스트에 포함되어 있는 특수 문자 제거 \n",
    "    text = re.sub('[qwertyuiopasdfghjklzxcvbnm0123456789-=+,/\\?:#I^$.@*\\\"※~&%ㆍ!』\\\\‘|\\(\\)\\[\\]\\<\\>`\\'…》❤ㅂㅈㄷㄱㅅㅁㄴㅇㄹㅎㅋㅌㅊㅍㅛㅕㅑㅐㅔㅗㅓㅏㅣㅠㅜㅡ]', '', readData)\n",
    "    text = re.compile(\"[\"\n",
    "        u\"\\U00010000-\\U0010FFFF\"  #BMP characters 이외\n",
    "                           \"]+\", flags=re.UNICODE).sub(r' ',text)\n",
    "    return text"
   ]
  },
  {
   "cell_type": "code",
   "execution_count": 80,
   "metadata": {
    "scrolled": true
   },
   "outputs": [
    {
     "name": "stdout",
     "output_type": "stream",
     "text": [
      "['국내여행베스트', '국내여행베스트 대구근교', '한곳', '한곳 경북여행', '한곳 경북여행 주말여행지', '한곳 경북여행 주말여행지 국내여행지추천', '봄비', '이번', '소개', '소개할 여행', '국내여행지베스트', '국내여행지베스트 경북편이', '영상', '자료', '경북', '유튜브', '유튜브 공모전한다는', '유튜브 공모전한다는 소식', '준비', '주제', '주제 별로', '더 많은 곳', '소개하기엔 어려울 것', '추리', '추렸어', '영양', '영양 자작나무숲', '영양 자작나무숲  영주무섬다리', '영양 자작나무숲  영주무섬다리 그', '영양 자작나무숲  영주무섬다리 그 외', '영양 자작나무숲  영주무섬다리 그 외 영주', '영양 자작나무숲  영주무섬다리 그 외 영주 가볼 만', '곳 소수서원', '곳 소수서원과 선비촌', '곳 소수서원과 선비촌 부석사', '곳 소수서원과 선비촌 부석사  예천', '다리', '다리  포항', '다리  포항 곤륜산', '다리  포항 곤륜산  예천', '다리  포항 곤륜산  예천 회룡포', '다리  포항 곤륜산  예천 회룡포 전망대', '다리  포항 곤륜산  예천 회룡포 전망대  포항', '다리  포항 곤륜산  예천 회룡포 전망대  포항 내연산', '청송', '청송 송소고택', '청송 송소고택  포항', '닻 전망대', '닻 전망대  포항', '닻 전망대  포항 호미반도', '닻 전망대  포항 호미반도  울릉', '예천', '예천 활체험센터', '예천 활체험센터와 삼강문화단지', '예천 활체험센터와 삼강문화단지  문경', '예천 활체험센터와 삼강문화단지  문경 관광사격장', '예천 활체험센터와 삼강문화단지  문경 관광사격장과 에코', '포항', '포항 장기읍성', '포항 장기읍성  청도', '포항 장기읍성  청도 청도읍성', '포항 장기읍성  청도 청도읍성  문경', '포항 장기읍성  청도 청도읍성  문경 고모산성', '국내', '여행', '베스트', '대구근교', '주말', '여행지', '추천', '편이', '공모전', '한다는', '소식', '별로', '자작나무숲', '영주무섬', '영주', '소수서원', '선비', '부석사', '곤륜산', '회룡포', '전망대', '내연산', '소금강', '스페이스', '소고택', '호미', '반도', '울릉', '체험', '센터', '삼강', '문화', '단지', '문경', '관광', '사격장', '에코', '장기읍성', '청도', '청도읍성', '고모', '산성']\n"
     ]
    }
   ],
   "source": [
    "input_string = readline[num].replace('\\n','')\n",
    "komoran = Okt()\n",
    "input_string = cleanText(input_string)\n",
    "analyzed_str = komoran.phrases(komoran.normalize(input_string))\n",
    "temp = []\n",
    "for i in analyzed_str:\n",
    "    if i.isdigit():\n",
    "        continue\n",
    "    else:\n",
    "        temp.append(i)\n",
    "print(temp)\n",
    "#print(analyzed_str)"
   ]
  },
  {
   "cell_type": "code",
   "execution_count": 72,
   "metadata": {},
   "outputs": [
    {
     "name": "stdout",
     "output_type": "stream",
     "text": [
      "원문:  국내여행베스트 대구근교가볼만한곳 경북여행 주말여행지 국내여행지추천 안녕하세요 봄비입니다 이번에 소개할 여행지는 국내여행지베스트 경북편이에요 영상을 만들고 싶어 자료를 찾아보던 중에 경북에서 유튜브 공모전한다는 소식을 들었거든요 그래 경북 을 준비해보자 주제 별로 뽑아봤어요 더 많은 곳이 있는데 분 만에 다 소개하기엔 어려울 것 같아서 추리고 추렸어요 ✨ 경북가볼만한곳 ✨ Intro  영양 자작나무숲  영주무섬다리 그 외 영주 가볼 만한 곳 소수서원과 선비촌 부석사  예천 뿅뿅다리  포항 곤륜산  예천 회룡포 전망대  포항 내연산 소금강 전망대  포항 스페이스워크  청송 송소고택  포항 이가리 닻 전망대  포항 호미반도  울릉해담길  예천 활체험센터와 삼강문화단지  문경 관광사격장과 에코랄라  포항 장기읍성  청도 청도읍성  문경 고모산성\n",
      "형태소 분리:  [['국', '내'], ['국', '내'], ['한', '곳'], ['한', '곳'], ['한', '곳'], ['한', '곳'], ['봄', '비'], ['이', '번'], ['소', '개'], ['소', '개'], ['국', '내'], ['국', '내'], ['영', '상'], ['자', '료'], ['경', '북'], ['유', '튜'], ['유', '튜'], ['유', '튜'], ['준', '비'], ['주', '제'], ['주', '제'], ['더', ' '], ['소', '개'], ['추', '리'], ['추', '렸'], ['I', 'n'], ['I', 'n'], ['I', 'n'], ['I', 'n'], ['I', 'n'], ['I', 'n'], ['I', 'n'], ['곳', ' '], ['곳', ' '], ['곳', ' '], ['곳', ' '], ['다', '리'], ['다', '리'], ['다', '리'], ['다', '리'], ['다', '리'], ['다', '리'], ['다', '리'], ['다', '리'], ['청', '송'], ['청', '송'], ['청', '송'], ['닻', ' '], ['닻', ' '], ['닻', ' '], ['닻', ' '], ['예', '천'], ['예', '천'], ['예', '천'], ['예', '천'], ['예', '천'], ['예', '천'], ['포', '항'], ['포', '항'], ['포', '항'], ['포', '항'], ['포', '항'], ['포', '항'], ['국', '내'], ['여', '행'], ['베', '스'], ['대', '구'], ['주', '말'], ['여', '행'], ['추', '천'], ['편', '이'], ['공', '모'], ['한', '다'], ['소', '식'], ['별', '로'], ['영', '양'], ['자', '작'], ['영', '주'], ['영', '주'], ['소', '수'], ['선', '비'], ['부', '석'], ['곤', '륜'], ['회', '룡'], ['전', '망'], ['내', '연'], ['소', '금'], ['스', '페'], ['소', '고'], ['호', '미'], ['반', '도'], ['울', '릉'], ['체', '험'], ['센', '터'], ['삼', '강'], ['문', '화'], ['단', '지'], ['문', '경'], ['관', '광'], ['사', '격'], ['에', '코'], ['장', '기'], ['청', '도'], ['청', '도'], ['고', '모'], ['산', '성']]\n"
     ]
    }
   ],
   "source": [
    "#%% (단어,품사) 형태로 만들기\n",
    "tagged_list = []\n",
    "tagged_list2 = []\n",
    "for i in range(len(analyzed_str)):\n",
    "    a = [analyzed_str[i][0],analyzed_str[i][1]]\n",
    "    tagged_list.append(a)\n",
    "\n",
    "for j in tagged_list:\n",
    "    if len(j) != 2:\n",
    "        tagged_list.remove(j)\n",
    "        tagged_list2.remove(j)\n",
    "\n",
    "print('원문: ', input_string)\n",
    "print('형태소 분리: ', tagged_list)"
   ]
  },
  {
   "cell_type": "code",
   "execution_count": 59,
   "metadata": {},
   "outputs": [
    {
     "name": "stdout",
     "output_type": "stream",
     "text": [
      "평가 대상:  [['국내', 'Noun'], ['여행', 'Noun'], ['베스트', 'Noun'], ['근교', 'Noun'], ['곳', 'Noun'], ['경북', 'Noun'], ['여행', 'Noun'], ['주말', 'Noun'], ['여행지', 'Noun'], ['국내', 'Noun'], ['여행지', 'Noun'], ['추천', 'Noun'], ['봄비', 'Noun'], ['이번', 'Noun'], ['소개', 'Noun'], ['여행', 'Noun'], ['국내', 'Noun'], ['여행지', 'Noun'], ['베스트', 'Noun'], ['경북', 'Noun'], ['편이', 'Noun'], ['영상', 'Noun'], ['자료', 'Noun'], ['중', 'Noun'], ['경북', 'Noun'], ['유튜브', 'Noun'], ['공모전', 'Noun'], ['소식', 'Noun'], ['경북', 'Noun'], ['준비', 'Noun'], ['주제', 'Noun'], ['별로', 'Noun'], ['더', 'Noun'], ['곳', 'Noun'], ['소개', 'Noun'], ['것', 'Noun'], ['추리', 'Noun'], ['추렸어', 'Noun'], ['경북', 'Noun'], ['곳', 'Noun'], ['영양', 'Noun'], ['자작나무숲', 'Noun'], ['무섬', 'Noun'], ['다리', 'Noun'], ['그', 'Noun'], ['외', 'Noun'], ['영주', 'Noun'], ['만', 'Noun'], ['곳', 'Noun'], ['소수서원', 'Noun'], ['선비', 'Noun'], ['촌', 'Noun'], ['부석사', 'Noun'], ['예천', 'Noun'], ['다리', 'Noun'], ['포항', 'Noun'], ['곤륜산', 'Noun'], ['예천', 'Noun'], ['회룡포', 'Noun'], ['전망대', 'Noun'], ['포항', 'Noun'], ['내연산', 'Noun'], ['소금강', 'Noun'], ['전망대', 'Noun'], ['포항', 'Noun'], ['스페이스', 'Noun'], ['워', 'Noun'], ['청송', 'Noun'], ['송', 'Noun'], ['고택', 'Noun'], ['포항', 'Noun'], ['닻', 'Noun'], ['전망대', 'Noun'], ['포항', 'Noun'], ['호미', 'Noun'], ['반도', 'Noun'], ['울릉', 'Noun'], ['예천', 'Noun'], ['활', 'Noun'], ['체험', 'Noun'], ['센터', 'Noun'], ['삼강', 'Noun'], ['문화', 'Noun'], ['단지', 'Noun'], ['문경', 'Noun'], ['관광', 'Noun'], ['사격장', 'Noun'], ['에코', 'Noun'], ['포항', 'Noun'], ['장기읍성', 'Noun'], ['청도', 'Noun'], ['청도읍', 'Noun'], ['문경', 'Noun'], ['고모', 'Noun'], ['산성', 'Noun']]\n"
     ]
    }
   ],
   "source": [
    "# 고려하는 TAG 단어만 선택 \n",
    "# 평가 대상\n",
    "tag_list = ['Noun']\n",
    "\n",
    "def remove_word_by_tag(x):\n",
    "    temp = list()\n",
    "    for k in range(len(x)):\n",
    "        if x[k][1] in tag_list:\n",
    "            temp.append(x[k])\n",
    "        else:\n",
    "            continue\n",
    "    return temp\n",
    "\n",
    "tl = remove_word_by_tag(tagged_list)\n",
    "\n",
    "print('평가 대상: ', tl)"
   ]
  },
  {
   "cell_type": "code",
   "execution_count": 42,
   "metadata": {},
   "outputs": [
    {
     "name": "stdout",
     "output_type": "stream",
     "text": [
      "============= Computing ================\n"
     ]
    }
   ],
   "source": [
    "#%% 점수 매기기\n",
    "df = pd.DataFrame(columns=['WORD', 'TAG', 'reinforcer', 'score'])\n",
    "\n",
    "for i in range(len(tag_list)):    \n",
    "     file = pd.read_csv(home_path + \"\\\\dic\\\\\"+str(tag_list[i])+\".csv\")\n",
    "     word_list = list(file.iloc[:,0])\n",
    "     df1 = pd.DataFrame(word_list, columns=['WORD'])\n",
    "     df1['TAG'] = str(tag_list[i])\n",
    "     df1['reinforcer'] = file.reinforcer\n",
    "     df1['score'] = file.score\n",
    "     df = df.append(df1, ignore_index=True)\n",
    "\n",
    "print('============= Computing ================')\n",
    "total_score = 0\n",
    "t_score = 0.0\n",
    "t_rein = 1.0"
   ]
  },
  {
   "cell_type": "code",
   "execution_count": 43,
   "metadata": {},
   "outputs": [
    {
     "name": "stdout",
     "output_type": "stream",
     "text": [
      "\t 일출 --> 더하기:  0.0\n",
      "\t 여자 --> 더하기:  0.0\n",
      "\t 혼자 --> 더하기:  0.0\n",
      "\t 위험 --> 더하기:  0.0\n",
      "\t 생각 --> 더하기:  0.0\n",
      "\t 위험 --> 더하기:  0.0\n",
      "\t 여자 --> 더하기:  0.0\n",
      "\t 혼자 --> 더하기:  0.0\n",
      "\t 여행 --> 더하기:  0.0\n",
      "\t 곳 --> 더하기:  0.0\n",
      "\t 산 --> 더하기:  0.0\n",
      "\t 복도 --> 더하기:  0.0\n",
      "\t 눈 --> 더하기:  0.0\n",
      "\t 이번 --> 더하기:  0.0\n",
      "\t 영상 --> 더하기:  0.0\n",
      "\t 달 --> 더하기:  0.0\n",
      "\t 전 --> 더하기:  0.0\n",
      "\t 영상 --> 더하기:  0.0\n",
      "\t 영상 --> 더하기:  0.0\n",
      "\t 개인 --> 더하기:  0.0\n",
      "\t 소장 --> 더하기:  0.0\n",
      "\t 고민 --> 더하기:  0.0\n",
      "\t 공개 --> 더하기:  0.0\n",
      "\t 영주동 --> 점수를 등록하세요.\n",
      "\t 산 --> 더하기:  0.0\n",
      "\t 복도 --> 더하기:  0.0\n",
      "\t 일출 --> 더하기:  0.0\n",
      "\t 곳 --> 더하기:  0.0\n",
      "\t 일출 --> 더하기:  0.0\n",
      "\t 야경 --> 더하기:  0.0\n",
      "\t 여행 --> 더하기:  0.0\n",
      "\t 노트 --> 더하기:  0.0\n",
      "\t 팁 --> 더하기:  0.0\n",
      "\t 부산역 --> 점수를 등록하세요.\n",
      "\t 시내 --> 더하기:  0.0\n",
      "\t 버스 --> 더하기:  0.0\n",
      "\t 거리 --> 더하기:  0.0\n",
      "\t 영주 --> 더하기:  0.0\n",
      "\t 삼거리 --> 더하기:  0.0\n",
      "\t 하차 --> 더하기:  0.0\n",
      "\t 야경 --> 더하기:  0.0\n",
      "\t 일출 --> 더하기:  0.0\n",
      "\t 위치 --> 더하기:  0.0\n",
      "\t 역사 --> 더하기:  0.0\n",
      "\t 디오라마 --> 점수를 등록하세요.\n",
      "\t 주 --> 더하기:  0.0\n",
      "\t 차 --> 더하기:  0.0\n",
      "\t 중구 --> 점수를 등록하세요.\n",
      "\t 웰빙 --> 점수를 등록하세요.\n",
      "\t 체육관 --> 더하기:  0.0\n",
      "\t 역사 --> 더하기:  0.0\n",
      "\t 디오라마 --> 점수를 등록하세요.\n",
      "\t 거리 --> 더하기:  0.0\n",
      "\t 민주 --> 더하기:  0.0\n",
      "\t 공원 --> 더하기:  0.0\n",
      "\t 주 --> 더하기:  0.0\n",
      "\t 차 --> 더하기:  0.0\n",
      "\t 산 --> 더하기:  0.0\n",
      "\t 복도 --> 더하기:  0.0\n",
      "\t 일출 --> 더하기:  0.0\n",
      "\t 이야기 --> 더하기:  0.0\n",
      "\t 부산 --> 점수를 등록하세요.\n",
      "\t 이야기 --> 더하기:  0.0\n",
      "\t 리포트 --> 점수를 등록하세요.\n",
      "\t 봄비 --> 더하기:  0.0\n",
      "\t 소통 --> 더하기:  0.0\n",
      "\t 인 --> 더하기:  0.0\n",
      "\t 스타 --> 점수를 등록하세요.\n",
      "\t 그램 --> 점수를 등록하세요.\n",
      "\t 여행 --> 더하기:  0.0\n",
      "\t 후기 --> 더하기:  0.0\n",
      "\t 블록 --> 더하기:  0.0\n",
      "\t 메일 --> 점수를 등록하세요.\n",
      "==========================================\n",
      "\n",
      "<문자 긍/부정 점수> \n",
      "score = 0.0, reinforcer = 1.0, final score = 0.0 \n",
      "\n"
     ]
    }
   ],
   "source": [
    "for k in range(len(tl)):\n",
    "\n",
    "    temp = df.loc[(df['WORD'] == tl[k][0]) & (df['TAG'] == tl[k][1])]\n",
    "    \n",
    "    if temp.empty != True :\n",
    "        score = float(temp['score'].unique())\n",
    "        rein = float(temp['reinforcer'].unique())\n",
    "    \n",
    "        word = list(temp.WORD)[0]\n",
    "    \n",
    "        if tl[k][1] in ['VA', 'NNG', 'IC', 'XR', 'NNP', 'VV']:\n",
    "        \n",
    "            print('\\t', word, '--> 더하기: ', score)\n",
    "            t_score  += score\n",
    "                                                    \n",
    "        if tl[k][1] in ['MAG', 'VX', 'VA']:\n",
    "            \n",
    "            print('\\t', word, '--> 곱하기: ', rein)\n",
    "            t_rein *= rein\n",
    "    else:\n",
    "        print('\\t', tl[k][0], '--> 점수를 등록하세요.')\n",
    "\n",
    "print('==========================================')\n",
    "\n",
    "print('\\n<문자 긍/부정 점수> ')\n",
    "print('score = %.1f, reinforcer = %.1f, final score = %.1f \\n' %(t_score, t_rein, t_score * t_rein))\n",
    "                                 # 품사 빈도 분석을 위해 '품사', '단어' 순으로 저장한 리스트\n"
   ]
  },
  {
   "cell_type": "code",
   "execution_count": 44,
   "metadata": {},
   "outputs": [
    {
     "name": "stdout",
     "output_type": "stream",
     "text": [
      "{'NNG': 67, 'NNB': 5, 'NNP': 5}\n",
      "0 번째 문장까지 분석\n",
      "\n",
      "문장 개수를 벗어나는 숫자나 문자 아무거나 입력하면 에러뜨면서 끝나요\n",
      "총 문자 개수 :  1\n",
      "몇번째 문장 분석?? : a\n"
     ]
    }
   ],
   "source": [
    "temp = {}                                            # 품사 빈도 분석을 위한 새로운 딕셔너리 초기화\n",
    "for i in range(len(tagged_list2)):\n",
    "    if tagged_list2[i][0] in tag_list:\n",
    "        if tagged_list2[i][0] in temp.keys():        # 개수 딕셔너리에 저장\n",
    "            temp[tagged_list2[i][0]] += 1\n",
    "        else : \n",
    "            temp[tagged_list2[i][0]] = 1\n",
    "print(temp)\n",
    "print(int(num),\"번째 문장까지 분석\\n\")\n",
    "print(\"문장 개수를 벗어나는 숫자나 문자 아무거나 입력하면 에러뜨면서 끝나요\")\n",
    "print(\"총 문자 개수 : \", len(readline))\n",
    "num = input(\"몇번째 문장 분석?? : \")"
   ]
  },
  {
   "cell_type": "code",
   "execution_count": 40,
   "metadata": {},
   "outputs": [
    {
     "name": "stdout",
     "output_type": "stream",
     "text": [
      "Grand Total Score =  0.0\n",
      "총 문장 개수 :  1\n",
      "몇번째 문장 분석?? : 0\n"
     ]
    }
   ],
   "source": []
  }
 ],
 "metadata": {
  "kernelspec": {
   "display_name": "Python 3",
   "language": "python",
   "name": "python3"
  },
  "language_info": {
   "codemirror_mode": {
    "name": "ipython",
    "version": 3
   },
   "file_extension": ".py",
   "mimetype": "text/x-python",
   "name": "python",
   "nbconvert_exporter": "python",
   "pygments_lexer": "ipython3",
   "version": "3.8.5"
  }
 },
 "nbformat": 4,
 "nbformat_minor": 4
}
