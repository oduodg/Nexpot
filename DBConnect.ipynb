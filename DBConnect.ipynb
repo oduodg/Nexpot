{
 "cells": [
  {
   "cell_type": "code",
   "execution_count": 18,
   "metadata": {},
   "outputs": [],
   "source": [
    "import pymysql as db\n",
    "import import_ipynb\n",
    "import YouTubeAPI as youtube\n",
    "import place_extract_kakaomap_api as kakao"
   ]
  },
  {
   "cell_type": "code",
   "execution_count": 22,
   "metadata": {},
   "outputs": [],
   "source": [
    "local = 'graduation.cnghtzd7ghxu.us-west-1.rds.amazonaws.com'  # aws rds 접근\n",
    "con = db.connect(\n",
    "    host=local,\n",
    "    user='root',\n",
    "    db='Nexpot',\n",
    "    password='qwertyuiop123',\n",
    "    charset='utf8'\n",
    ")\n",
    "cur = con.cursor()"
   ]
  },
  {
   "cell_type": "code",
   "execution_count": 20,
   "metadata": {},
   "outputs": [],
   "source": [
    "for i in range(len(youtube.travel_df)):  # youtube 테이블\n",
    "    sql = \"insert into youtube values('\" + youtube.channername + \"','\" + \\\n",
    "    youtube.vdf['IDS'][i] + \"','\" + youtube.travel_df['title'][i] + \\\n",
    "    \"','\" + youtube.travel_df['views'][i] +\"','\" + youtube.travel_df['likes'][i] + \\\n",
    "    \"','\" + youtube.travel_df['comments'][i] + \"')\"\n",
    "    try:\n",
    "        cur.execute(sql)\n",
    "        con.commit()\n",
    "    except:\n",
    "        con.rollback()"
   ]
  },
  {
   "cell_type": "code",
   "execution_count": 23,
   "metadata": {},
   "outputs": [],
   "source": [
    "for i in range(len(kakao.kakao_df)):   # places 테이블\n",
    "    idx = f'{i+1}'\n",
    "    sql = \"insert into places values('\" + idx + \"','\" + youtube.vid + \"','\" + \\\n",
    "    kakao.kakao_df['placeID'][i] + \"','\" + kakao.kakao_df['pname'][i] + \"','\" + \\\n",
    "    kakao.kakao_df['paddress'][i] +\"','\" + kakao.kakao_df['pdo'][i] + \"','\" + \\\n",
    "    kakao.kakao_df['psi'][i] +\"','\" + kakao.kakao_df['pphone'][i] + \"','\" + kakao.kakao_df['pdaumURL'][i] +\\\n",
    "    \"','\" + kakao.kakao_df['pX'][i]+\"','\" + kakao.kakao_df['pY'][i] + \"')\"\n",
    "    try:\n",
    "        cur.execute(sql)\n",
    "        con.commit()\n",
    "    except:\n",
    "        con.rollback()\n",
    "        \n",
    "con.close()"
   ]
  }
 ],
 "metadata": {
  "kernelspec": {
   "display_name": "Python 3",
   "language": "python",
   "name": "python3"
  },
  "language_info": {
   "codemirror_mode": {
    "name": "ipython",
    "version": 3
   },
   "file_extension": ".py",
   "mimetype": "text/x-python",
   "name": "python",
   "nbconvert_exporter": "python",
   "pygments_lexer": "ipython3",
   "version": "3.8.5"
  }
 },
 "nbformat": 4,
 "nbformat_minor": 4
}
