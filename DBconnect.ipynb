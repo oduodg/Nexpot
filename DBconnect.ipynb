{
 "cells": [
  {
   "cell_type": "code",
   "execution_count": 2,
   "metadata": {},
   "outputs": [
    {
     "name": "stdout",
     "output_type": "stream",
     "text": [
      "yes\n"
     ]
    },
    {
     "data": {
      "text/plain": [
       "<pymysql.cursors.Cursor at 0x1f2e6711430>"
      ]
     },
     "execution_count": 2,
     "metadata": {},
     "output_type": "execute_result"
    }
   ],
   "source": [
    "import pymysql as db\n",
    "\n",
    "local = 'graduate-project.c43ypw0liaa2.ap-northeast-2.rds.amazonaws.com'\n",
    "con = db.connect(\n",
    "    host=local,\n",
    "    user='admin',\n",
    "    db='project',\n",
    "    password='qwertyuiop123',\n",
    "    charset='utf8'\n",
    ")\n",
    "cur = con.cursor()\n",
    "\n",
    "\n",
    "# DB_CONNECTOR\n",
    "def connect():\n",
    "    return cur\n",
    "\n",
    "\n",
    "# DB_COMMIT\n",
    "def commit():\n",
    "    con.commit()\n",
    "    cur.close()\n",
    "    \n",
    "connect()"
   ]
  }
 ],
 "metadata": {
  "kernelspec": {
   "display_name": "Python 3",
   "language": "python",
   "name": "python3"
  },
  "language_info": {
   "codemirror_mode": {
    "name": "ipython",
    "version": 3
   },
   "file_extension": ".py",
   "mimetype": "text/x-python",
   "name": "python",
   "nbconvert_exporter": "python",
   "pygments_lexer": "ipython3",
   "version": "3.8.5"
  }
 },
 "nbformat": 4,
 "nbformat_minor": 4
}
