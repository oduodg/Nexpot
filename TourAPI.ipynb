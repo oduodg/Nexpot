{
 "cells": [
  {
   "cell_type": "code",
   "execution_count": 2,
   "metadata": {},
   "outputs": [],
   "source": [
    "import requests\n",
    "import urllib\n",
    "import json\n",
    "from pprint import pprint"
   ]
  },
  {
   "cell_type": "code",
   "execution_count": 3,
   "metadata": {},
   "outputs": [
    {
     "name": "stdout",
     "output_type": "stream",
     "text": [
      "b'<?xml version=\"1.0\" encoding=\"UTF-8\" standalone=\"yes\"?><response><header><responseTime>2022-05-10T16:56:17.970+09:00</responseTime><resultCode>30</resultCode><resultMsg>SERVICE KEY IS NOT REGISTERED ERROR.</resultMsg></header></response>'\n"
     ]
    }
   ],
   "source": [
    "url = 'http://api.visitkorea.or.kr/openapi/service/rest/KorService/locationBasedList'\n",
    "params ={'serviceKey' : '서비스키', \n",
    "         'numOfRows' : '10', \n",
    "         'pageNo' : '1', \n",
    "         'MobileOS' : 'ETC', \n",
    "         'MobileApp' : 'AppTest', \n",
    "         'arrange' : 'A', \n",
    "         'contentTypeId' : '15', \n",
    "         'mapX' : '126.981611', \n",
    "         'mapY' : '37.568477', \n",
    "         'radius' : '1000', \n",
    "         'listYN' : 'Y', \n",
    "         'modifiedtime' : '' }\n",
    "\n",
    "response = requests.get(url, params=params)\n",
    "print(response.content)"
   ]
  },
  {
   "cell_type": "code",
   "execution_count": null,
   "metadata": {},
   "outputs": [],
   "source": [
    "ServiceKey = \"uwANzKRxZtNiDrBaW7T7cN%2FDykCM7m6%2BNmGtAhQ88yszsHuqb9%2BZeME%2FaKo3LP6%2Bpmu%2BIjVNPbF5WY9yv8QCow%3D%3D\"\n",
    "url = \"\"\n",
    "request = urllib.request.Request(url)\n",
    "response = urllib.request.urlopen(request)\n",
    "rescode = response.getcode()\n",
    "if(rescode==200):\n",
    "    response_body = response.read()\n",
    "    print(response_body.decode('utf-8'))\n",
    "    dict = json.loads(response_body.decode('utf-8'))\n",
    "    pprint(dict)\n",
    "else:\n",
    "    print(\"Error Code:\" + rescode)"
   ]
  }
 ],
 "metadata": {
  "kernelspec": {
   "display_name": "Python 3",
   "language": "python",
   "name": "python3"
  },
  "language_info": {
   "codemirror_mode": {
    "name": "ipython",
    "version": 3
   },
   "file_extension": ".py",
   "mimetype": "text/x-python",
   "name": "python",
   "nbconvert_exporter": "python",
   "pygments_lexer": "ipython3",
   "version": "3.8.5"
  }
 },
 "nbformat": 4,
 "nbformat_minor": 4
}
