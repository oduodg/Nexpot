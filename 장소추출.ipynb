{
 "cells": [
  {
   "cell_type": "code",
   "execution_count": 23,
   "metadata": {},
   "outputs": [],
   "source": [
    "import pandas as pd\n",
    "from PyKomoran import *\n",
    "import warnings \n",
    "import platform\n",
    "warnings.filterwarnings('ignore')\n",
    "import re"
   ]
  },
  {
   "cell_type": "code",
   "execution_count": 32,
   "metadata": {},
   "outputs": [
    {
     "name": "stdout",
     "output_type": "stream",
     "text": [
      "총 문자 개수 :  1\n",
      "문장 순서가 0부터 시작이에요!\n",
      "몇번째 문장 분석?? : 0\n"
     ]
    }
   ],
   "source": [
    "#%% Komoran 작동\n",
    "input_file = open('description.txt', 'r', encoding = 'UTF8')   # 수집한 댓글들 불러오기\n",
    "readline = input_file.readlines()                             # 줄별로 읽어와서 리스트에 저장\n",
    "print(\"총 문자 개수 : \", len(readline))\n",
    "print(\"문장 순서가 0부터 시작이에요!\")\n",
    "num = input(\"몇번째 문장 분석?? : \")                      # 문장 순서가 0부터 시작이에요!\n",
    "home_path = \"C:\\\\Users\\\\USER\\\\Desktop\\\\Hongik\\\\3_2\\\\데이테캡스톤(프로젝트)\\\\팀플\\\\\"\n"
   ]
  },
  {
   "cell_type": "code",
   "execution_count": 33,
   "metadata": {},
   "outputs": [],
   "source": [
    "def cleanText(readData): \n",
    "    #텍스트에 포함되어 있는 특수 문자 제거 \n",
    "    text = re.sub('[-=+,#/\\?:^$.@*\\\"※~&%ㆍ!』\\\\‘|\\(\\)\\[\\]\\<\\>`\\'…》❤ㅂㅈㄷㄱㅅㅁㄴㅇㄹㅎㅋㅌㅊㅍㅛㅕㅑㅐㅔㅗㅓㅏㅣㅠㅜㅡ]', '', readData)\n",
    "    text = re.compile(\"[\"\n",
    "        u\"\\U00010000-\\U0010FFFF\"  #BMP characters 이외\n",
    "                           \"]+\", flags=re.UNICODE).sub(r' ',text)\n",
    "    return text"
   ]
  },
  {
   "cell_type": "code",
   "execution_count": 34,
   "metadata": {},
   "outputs": [
    {
     "name": "stdout",
     "output_type": "stream",
     "text": [
      "[/NA, 일출/NNG, 을/JKO, 보/VV, 러/EC, 가/VV, 는/ETM, 것/NNB, ㄴ/JX, 여자/NNG, 혼자/NNG, 위험/NNG, 하/XSV, 다고/EC, 생각/NNG, 하/XSV, 았/EP, 어요/EC, 그래서/MAJ, 위험/NNG, 하/XSV, 지/EC, 않/VX, 으면서/EC, 여자/NNG, 혼자/NNG, 여행/NNG, 하/VV, ㄹ/ETM, 수/NNB, 있/VV, 을/ETM, 곳/NNG, 을/JKO, 찾/VV, 다/EC, 산/NNG, 복도/NNG, 로/JKB, 가/VV, 아/EC, 눈/NNG, 에/JKB, 들어오/VV, 았/EP, 죠/EF, \\/SW, n/SL, 물론/MAG, 이번/NNG, 영상/NNG, 은/JX, 몇/MM, 달/NNG, 전/NNG, 에/JKB, 찍/VV, 은/ETM, 영상/NNG, 이/VCP, 에요/EC, 워낙/MAG, 짧/VA, 은/ETM, 영상/NNG, 이/VCP, 라/EC, 올리/VV, 지/EC, 말/VX, 고/EC, 개인/NNG, 소장/NNG, 하/XSV, ㄹ까/EC, 말/VX, ㄹ까/EC, 고민/NNG, 을/JKO, 하/VV, 았/EP, 다죠/EC, 그래도/MAJ, 공개/NNG, \\/SW, n/SL, /NA, 이곳/NP, 영주동/NNP, 산/NNG, 복도/NNG, 로/JKB, 일출/NNG, 은/JX, 유명/XR, 하/XSA, 지/EC, 않/VX, 는/ETM, 곳/NNG, 이/VCP, 에요/EC, /NA, 일출/NNG, 보다/JKB, 는/JX, 야경/NNG, 이/JKS, 더/MAG, 유명/XR, 하/XSA, 죠/EC, \\/SW, n/SL, \\/SW, n/SL, 여행/NNG, 노트/NNG, \\/SW, n/SL, 1/SN, 팁/NNG, 부산역/NNP, 에서/JKB, 시내/NNG, 버스/NNG, 타/VV, 고/EC, 15/SN, 분/NNB, 거리/NNG, 영주/NNG, 삼거리/NNG, 하차/NNG, \\/SW, n/SL, 2/SN, 야경/NNG, 또는/MAG, 일출/NNG, 을/JKO, 보/VV, 기/ETN, 좋/VA, 은/ETM, 위치/NNG, 역사/NNG, 의/JKG, 디오라마/NNG, \\/SW, n/SL, 3/SN, 주/NNG, 차/NNG, 중구/NNP, 웰빙/NNG, 체육관/NNG, 없/VA, 다면/EC, 역사/NNG, 의/JKG, 디오라마/NNG, 에서/JKB, 걷/VV, 어서/EC, 12/SN, 분/NNB, 거리/NNG, 에/JKB, 떨어지/VV, ㄴ/ETM, 민주/NNG, 공원/NNG, 에/JKB, 주/NNG, 차/NNG, \\/SW, n/SL, \\/SW, n/SL, ■/SW, 산/NNG, 복도/NNG, 로/JKB, 일출/NNG, 이야기/NNG, 는/JX, 부산/NNP, 이야기/NNG, 리포트/NNG, 에/JKB, 도/JX, 실리/VV, 었/EP, 습니다/EF, \\/SW, n/SL, /NA, httpswwwbusangokrnewsstoryreportviewdataNo/SL, 64745/SN, curPage/SL, 2/SN, \\/SW, n/SL, \\/SW, n/SL, ■/SW, 봄비/NNG, 와/JKB, 의/JKG, 소통/NNG, 은/JX, 인/NNG, 스타/NNP, 그램/NNB, \\/SW, nhttpwwwinstagramcomiamhappyy/SL, \\/SW, n/SL, \\/SW, n/SL, ■/SW, 자세/XR, 하/XSA, ㄴ/ETM, 여행/NNG, 후기/NNG, 는/JX, 블록/NNG, ㅡ/SS, \\/SW, nhttpblognavercomspringlll/SL, 8/SN, \\/SW, n/SL, \\/SW, n/SL, ■/SW, 메일/NNG, springlll/SL, 8/SN, navercom/SL]\n"
     ]
    }
   ],
   "source": [
    "input_string = readline[0].replace('\\n','')\n",
    "komoran = Komoran(\"STABLE\") \n",
    "komoran.set_user_dic(\"C:\\\\Users\\\\USER\\\\Desktop\\\\Hongik\\\\3_2\\\\데이테캡스톤(프로젝트)\\\\팀플\\\\dic2\\\\user_dictionary.txt\")\n",
    "input_string = cleanText(input_string)\n",
    "analyzed_str = komoran.get_list(input_string)\n",
    "print(analyzed_str)"
   ]
  },
  {
   "cell_type": "code",
   "execution_count": 35,
   "metadata": {},
   "outputs": [
    {
     "name": "stdout",
     "output_type": "stream",
     "text": [
      "원문:    일출을 보러 가는 건 여자 혼자 위험하다고 생각했어요 그래서 위험하지 않으면서 여자혼자여행 할 수 있을 곳을 찾다 산복도로 가 눈에 들어왔죠\\n 물론 이번 영상은 몇 달전에 찍은 영상이에요 워낙 짧은 영상이라 올리지 말고 개인 소장할까 말까 고민을 했다죠 그래도 공개\\n  이곳 영주동 산복도로 일출은 유명하지 않는 곳이에요  일출보다는 야경이 더 유명하죠 \\n\\n 여행노트\\n1팁 부산역에서 시내 버스 타고 15분 거리영주삼거리 하차\\n2 야경 또는 일출을 보기 좋은 위치 역사의 디오라마\\n3 주차 중구웰빙체육관 없다면 역사의 디오라마에서 걸어서 12분 거리에 떨어진 민주공원에 주차\\n\\n■ 산복도로 일출 이야기는 부산 이야기리포트에도 실렸습니다\\n  httpswwwbusangokrnewsstoryreportviewdataNo64745curPage2\\n\\n■ 봄비와의 소통은 인스타그램\\nhttpwwwinstagramcomiamhappyy\\n\\n■ 자세한 여행 후기는 블로그\\nhttpblognavercomspringlll8\\n\\n■ 메일 springlll8navercom\n",
      "형태소 분리:  [['', 'NA'], ['일출', 'NNG'], ['을', 'JKO'], ['보', 'VV'], ['러', 'EC'], ['가', 'VV'], ['는', 'ETM'], ['것', 'NNB'], ['ㄴ', 'JX'], ['여자', 'NNG'], ['혼자', 'NNG'], ['위험', 'NNG'], ['하', 'XSV'], ['다고', 'EC'], ['생각', 'NNG'], ['하', 'XSV'], ['았', 'EP'], ['어요', 'EC'], ['그래서', 'MAJ'], ['위험', 'NNG'], ['하', 'XSV'], ['지', 'EC'], ['않', 'VX'], ['으면서', 'EC'], ['여자', 'NNG'], ['혼자', 'NNG'], ['여행', 'NNG'], ['하', 'VV'], ['ㄹ', 'ETM'], ['수', 'NNB'], ['있', 'VV'], ['을', 'ETM'], ['곳', 'NNG'], ['을', 'JKO'], ['찾', 'VV'], ['다', 'EC'], ['산', 'NNG'], ['복도', 'NNG'], ['로', 'JKB'], ['가', 'VV'], ['아', 'EC'], ['눈', 'NNG'], ['에', 'JKB'], ['들어오', 'VV'], ['았', 'EP'], ['죠', 'EF'], ['\\\\', 'SW'], ['n', 'SL'], ['물론', 'MAG'], ['이번', 'NNG'], ['영상', 'NNG'], ['은', 'JX'], ['몇', 'MM'], ['달', 'NNG'], ['전', 'NNG'], ['에', 'JKB'], ['찍', 'VV'], ['은', 'ETM'], ['영상', 'NNG'], ['이', 'VCP'], ['에요', 'EC'], ['워낙', 'MAG'], ['짧', 'VA'], ['은', 'ETM'], ['영상', 'NNG'], ['이', 'VCP'], ['라', 'EC'], ['올리', 'VV'], ['지', 'EC'], ['말', 'VX'], ['고', 'EC'], ['개인', 'NNG'], ['소장', 'NNG'], ['하', 'XSV'], ['ㄹ까', 'EC'], ['말', 'VX'], ['ㄹ까', 'EC'], ['고민', 'NNG'], ['을', 'JKO'], ['하', 'VV'], ['았', 'EP'], ['다죠', 'EC'], ['그래도', 'MAJ'], ['공개', 'NNG'], ['\\\\', 'SW'], ['n', 'SL'], ['', 'NA'], ['이곳', 'NP'], ['영주동', 'NNP'], ['산', 'NNG'], ['복도', 'NNG'], ['로', 'JKB'], ['일출', 'NNG'], ['은', 'JX'], ['유명', 'XR'], ['하', 'XSA'], ['지', 'EC'], ['않', 'VX'], ['는', 'ETM'], ['곳', 'NNG'], ['이', 'VCP'], ['에요', 'EC'], ['', 'NA'], ['일출', 'NNG'], ['보다', 'JKB'], ['는', 'JX'], ['야경', 'NNG'], ['이', 'JKS'], ['더', 'MAG'], ['유명', 'XR'], ['하', 'XSA'], ['죠', 'EC'], ['\\\\', 'SW'], ['n', 'SL'], ['\\\\', 'SW'], ['n', 'SL'], ['여행', 'NNG'], ['노트', 'NNG'], ['\\\\', 'SW'], ['n', 'SL'], ['1', 'SN'], ['팁', 'NNG'], ['부산역', 'NNP'], ['에서', 'JKB'], ['시내', 'NNG'], ['버스', 'NNG'], ['타', 'VV'], ['고', 'EC'], ['15', 'SN'], ['분', 'NNB'], ['거리', 'NNG'], ['영주', 'NNG'], ['삼거리', 'NNG'], ['하차', 'NNG'], ['\\\\', 'SW'], ['n', 'SL'], ['2', 'SN'], ['야경', 'NNG'], ['또는', 'MAG'], ['일출', 'NNG'], ['을', 'JKO'], ['보', 'VV'], ['기', 'ETN'], ['좋', 'VA'], ['은', 'ETM'], ['위치', 'NNG'], ['역사', 'NNG'], ['의', 'JKG'], ['디오라마', 'NNG'], ['\\\\', 'SW'], ['n', 'SL'], ['3', 'SN'], ['주', 'NNG'], ['차', 'NNG'], ['중구', 'NNP'], ['웰빙', 'NNG'], ['체육관', 'NNG'], ['없', 'VA'], ['다면', 'EC'], ['역사', 'NNG'], ['의', 'JKG'], ['디오라마', 'NNG'], ['에서', 'JKB'], ['걷', 'VV'], ['어서', 'EC'], ['12', 'SN'], ['분', 'NNB'], ['거리', 'NNG'], ['에', 'JKB'], ['떨어지', 'VV'], ['ㄴ', 'ETM'], ['민주', 'NNG'], ['공원', 'NNG'], ['에', 'JKB'], ['주', 'NNG'], ['차', 'NNG'], ['\\\\', 'SW'], ['n', 'SL'], ['\\\\', 'SW'], ['n', 'SL'], ['■', 'SW'], ['산', 'NNG'], ['복도', 'NNG'], ['로', 'JKB'], ['일출', 'NNG'], ['이야기', 'NNG'], ['는', 'JX'], ['부산', 'NNP'], ['이야기', 'NNG'], ['리포트', 'NNG'], ['에', 'JKB'], ['도', 'JX'], ['실리', 'VV'], ['었', 'EP'], ['습니다', 'EF'], ['\\\\', 'SW'], ['n', 'SL'], ['', 'NA'], ['httpswwwbusangokrnewsstoryreportviewdataNo', 'SL'], ['64745', 'SN'], ['curPage', 'SL'], ['2', 'SN'], ['\\\\', 'SW'], ['n', 'SL'], ['\\\\', 'SW'], ['n', 'SL'], ['■', 'SW'], ['봄비', 'NNG'], ['와', 'JKB'], ['의', 'JKG'], ['소통', 'NNG'], ['은', 'JX'], ['인', 'NNG'], ['스타', 'NNP'], ['그램', 'NNB'], ['\\\\', 'SW'], ['nhttpwwwinstagramcomiamhappyy', 'SL'], ['\\\\', 'SW'], ['n', 'SL'], ['\\\\', 'SW'], ['n', 'SL'], ['■', 'SW'], ['자세', 'XR'], ['하', 'XSA'], ['ㄴ', 'ETM'], ['여행', 'NNG'], ['후기', 'NNG'], ['는', 'JX'], ['블록', 'NNG'], ['ㅡ', 'SS'], ['\\\\', 'SW'], ['nhttpblognavercomspringlll', 'SL'], ['8', 'SN'], ['\\\\', 'SW'], ['n', 'SL'], ['\\\\', 'SW'], ['n', 'SL'], ['■', 'SW'], ['메일', 'NNG'], ['springlll', 'SL'], ['8', 'SN'], ['navercom', 'SL']]\n"
     ]
    }
   ],
   "source": [
    "#%% (단어,품사) 형태로 만들기\n",
    "tagged_list = []\n",
    "tagged_list2 = []\n",
    "for i in range(len(analyzed_str)):\n",
    "    a = str(analyzed_str[i]).split('/')\n",
    "    tagged_list.append(a)\n",
    "    tagged_list2.append(list(reversed(a)))\n",
    "\n",
    "for j in tagged_list:\n",
    "    if len(j) != 2:\n",
    "        tagged_list.remove(j)\n",
    "        tagged_list2.remove(j)\n",
    "\n",
    "print('원문: ', input_string)\n",
    "print('형태소 분리: ', tagged_list)"
   ]
  },
  {
   "cell_type": "code",
   "execution_count": 41,
   "metadata": {},
   "outputs": [
    {
     "name": "stdout",
     "output_type": "stream",
     "text": [
      "평가 대상:  [['일출', 'NNG'], ['것', 'NNB'], ['여자', 'NNG'], ['혼자', 'NNG'], ['위험', 'NNG'], ['생각', 'NNG'], ['위험', 'NNG'], ['여자', 'NNG'], ['혼자', 'NNG'], ['여행', 'NNG'], ['수', 'NNB'], ['곳', 'NNG'], ['산', 'NNG'], ['복도', 'NNG'], ['눈', 'NNG'], ['이번', 'NNG'], ['영상', 'NNG'], ['달', 'NNG'], ['전', 'NNG'], ['영상', 'NNG'], ['영상', 'NNG'], ['개인', 'NNG'], ['소장', 'NNG'], ['고민', 'NNG'], ['공개', 'NNG'], ['영주동', 'NNP'], ['산', 'NNG'], ['복도', 'NNG'], ['일출', 'NNG'], ['곳', 'NNG'], ['일출', 'NNG'], ['야경', 'NNG'], ['여행', 'NNG'], ['노트', 'NNG'], ['팁', 'NNG'], ['부산역', 'NNP'], ['시내', 'NNG'], ['버스', 'NNG'], ['분', 'NNB'], ['거리', 'NNG'], ['영주', 'NNG'], ['삼거리', 'NNG'], ['하차', 'NNG'], ['야경', 'NNG'], ['일출', 'NNG'], ['위치', 'NNG'], ['역사', 'NNG'], ['디오라마', 'NNG'], ['주', 'NNG'], ['차', 'NNG'], ['중구', 'NNP'], ['웰빙', 'NNG'], ['체육관', 'NNG'], ['역사', 'NNG'], ['디오라마', 'NNG'], ['분', 'NNB'], ['거리', 'NNG'], ['민주', 'NNG'], ['공원', 'NNG'], ['주', 'NNG'], ['차', 'NNG'], ['산', 'NNG'], ['복도', 'NNG'], ['일출', 'NNG'], ['이야기', 'NNG'], ['부산', 'NNP'], ['이야기', 'NNG'], ['리포트', 'NNG'], ['봄비', 'NNG'], ['소통', 'NNG'], ['인', 'NNG'], ['스타', 'NNP'], ['그램', 'NNB'], ['여행', 'NNG'], ['후기', 'NNG'], ['블록', 'NNG'], ['메일', 'NNG']]\n"
     ]
    }
   ],
   "source": [
    "# 고려하는 TAG 단어만 선택 \n",
    "# 평가 대상\n",
    "tag_list = ['NNG', 'NNP', 'NNB']\n",
    "\n",
    "def remove_word_by_tag(x):\n",
    "    temp = list()\n",
    "    for k in range(len(x)):\n",
    "        if x[k][1] in tag_list:\n",
    "            temp.append(x[k])\n",
    "        else:\n",
    "            continue\n",
    "    return temp\n",
    "\n",
    "tl = remove_word_by_tag(tagged_list)\n",
    "\n",
    "print('평가 대상: ', tl)"
   ]
  },
  {
   "cell_type": "code",
   "execution_count": 42,
   "metadata": {},
   "outputs": [
    {
     "name": "stdout",
     "output_type": "stream",
     "text": [
      "============= Computing ================\n"
     ]
    }
   ],
   "source": [
    "#%% 점수 매기기\n",
    "df = pd.DataFrame(columns=['WORD', 'TAG', 'reinforcer', 'score'])\n",
    "\n",
    "for i in range(len(tag_list)):    \n",
    "     file = pd.read_csv(home_path + \"\\\\dic\\\\\"+str(tag_list[i])+\".csv\")\n",
    "     word_list = list(file.iloc[:,0])\n",
    "     df1 = pd.DataFrame(word_list, columns=['WORD'])\n",
    "     df1['TAG'] = str(tag_list[i])\n",
    "     df1['reinforcer'] = file.reinforcer\n",
    "     df1['score'] = file.score\n",
    "     df = df.append(df1, ignore_index=True)\n",
    "\n",
    "print('============= Computing ================')\n",
    "total_score = 0\n",
    "t_score = 0.0\n",
    "t_rein = 1.0"
   ]
  },
  {
   "cell_type": "code",
   "execution_count": 43,
   "metadata": {},
   "outputs": [
    {
     "name": "stdout",
     "output_type": "stream",
     "text": [
      "\t 일출 --> 더하기:  0.0\n",
      "\t 여자 --> 더하기:  0.0\n",
      "\t 혼자 --> 더하기:  0.0\n",
      "\t 위험 --> 더하기:  0.0\n",
      "\t 생각 --> 더하기:  0.0\n",
      "\t 위험 --> 더하기:  0.0\n",
      "\t 여자 --> 더하기:  0.0\n",
      "\t 혼자 --> 더하기:  0.0\n",
      "\t 여행 --> 더하기:  0.0\n",
      "\t 곳 --> 더하기:  0.0\n",
      "\t 산 --> 더하기:  0.0\n",
      "\t 복도 --> 더하기:  0.0\n",
      "\t 눈 --> 더하기:  0.0\n",
      "\t 이번 --> 더하기:  0.0\n",
      "\t 영상 --> 더하기:  0.0\n",
      "\t 달 --> 더하기:  0.0\n",
      "\t 전 --> 더하기:  0.0\n",
      "\t 영상 --> 더하기:  0.0\n",
      "\t 영상 --> 더하기:  0.0\n",
      "\t 개인 --> 더하기:  0.0\n",
      "\t 소장 --> 더하기:  0.0\n",
      "\t 고민 --> 더하기:  0.0\n",
      "\t 공개 --> 더하기:  0.0\n",
      "\t 영주동 --> 점수를 등록하세요.\n",
      "\t 산 --> 더하기:  0.0\n",
      "\t 복도 --> 더하기:  0.0\n",
      "\t 일출 --> 더하기:  0.0\n",
      "\t 곳 --> 더하기:  0.0\n",
      "\t 일출 --> 더하기:  0.0\n",
      "\t 야경 --> 더하기:  0.0\n",
      "\t 여행 --> 더하기:  0.0\n",
      "\t 노트 --> 더하기:  0.0\n",
      "\t 팁 --> 더하기:  0.0\n",
      "\t 부산역 --> 점수를 등록하세요.\n",
      "\t 시내 --> 더하기:  0.0\n",
      "\t 버스 --> 더하기:  0.0\n",
      "\t 거리 --> 더하기:  0.0\n",
      "\t 영주 --> 더하기:  0.0\n",
      "\t 삼거리 --> 더하기:  0.0\n",
      "\t 하차 --> 더하기:  0.0\n",
      "\t 야경 --> 더하기:  0.0\n",
      "\t 일출 --> 더하기:  0.0\n",
      "\t 위치 --> 더하기:  0.0\n",
      "\t 역사 --> 더하기:  0.0\n",
      "\t 디오라마 --> 점수를 등록하세요.\n",
      "\t 주 --> 더하기:  0.0\n",
      "\t 차 --> 더하기:  0.0\n",
      "\t 중구 --> 점수를 등록하세요.\n",
      "\t 웰빙 --> 점수를 등록하세요.\n",
      "\t 체육관 --> 더하기:  0.0\n",
      "\t 역사 --> 더하기:  0.0\n",
      "\t 디오라마 --> 점수를 등록하세요.\n",
      "\t 거리 --> 더하기:  0.0\n",
      "\t 민주 --> 더하기:  0.0\n",
      "\t 공원 --> 더하기:  0.0\n",
      "\t 주 --> 더하기:  0.0\n",
      "\t 차 --> 더하기:  0.0\n",
      "\t 산 --> 더하기:  0.0\n",
      "\t 복도 --> 더하기:  0.0\n",
      "\t 일출 --> 더하기:  0.0\n",
      "\t 이야기 --> 더하기:  0.0\n",
      "\t 부산 --> 점수를 등록하세요.\n",
      "\t 이야기 --> 더하기:  0.0\n",
      "\t 리포트 --> 점수를 등록하세요.\n",
      "\t 봄비 --> 더하기:  0.0\n",
      "\t 소통 --> 더하기:  0.0\n",
      "\t 인 --> 더하기:  0.0\n",
      "\t 스타 --> 점수를 등록하세요.\n",
      "\t 그램 --> 점수를 등록하세요.\n",
      "\t 여행 --> 더하기:  0.0\n",
      "\t 후기 --> 더하기:  0.0\n",
      "\t 블록 --> 더하기:  0.0\n",
      "\t 메일 --> 점수를 등록하세요.\n",
      "==========================================\n",
      "\n",
      "<문자 긍/부정 점수> \n",
      "score = 0.0, reinforcer = 1.0, final score = 0.0 \n",
      "\n"
     ]
    }
   ],
   "source": [
    "for k in range(len(tl)):\n",
    "\n",
    "    temp = df.loc[(df['WORD'] == tl[k][0]) & (df['TAG'] == tl[k][1])]\n",
    "    \n",
    "    if temp.empty != True :\n",
    "        score = float(temp['score'].unique())\n",
    "        rein = float(temp['reinforcer'].unique())\n",
    "    \n",
    "        word = list(temp.WORD)[0]\n",
    "    \n",
    "        if tl[k][1] in ['VA', 'NNG', 'IC', 'XR', 'NNP', 'VV']:\n",
    "        \n",
    "            print('\\t', word, '--> 더하기: ', score)\n",
    "            t_score  += score\n",
    "                                                    \n",
    "        if tl[k][1] in ['MAG', 'VX', 'VA']:\n",
    "            \n",
    "            print('\\t', word, '--> 곱하기: ', rein)\n",
    "            t_rein *= rein\n",
    "    else:\n",
    "        print('\\t', tl[k][0], '--> 점수를 등록하세요.')\n",
    "\n",
    "print('==========================================')\n",
    "\n",
    "print('\\n<문자 긍/부정 점수> ')\n",
    "print('score = %.1f, reinforcer = %.1f, final score = %.1f \\n' %(t_score, t_rein, t_score * t_rein))\n",
    "                                 # 품사 빈도 분석을 위해 '품사', '단어' 순으로 저장한 리스트\n"
   ]
  },
  {
   "cell_type": "code",
   "execution_count": 44,
   "metadata": {},
   "outputs": [
    {
     "name": "stdout",
     "output_type": "stream",
     "text": [
      "{'NNG': 67, 'NNB': 5, 'NNP': 5}\n",
      "0 번째 문장까지 분석\n",
      "\n",
      "문장 개수를 벗어나는 숫자나 문자 아무거나 입력하면 에러뜨면서 끝나요\n",
      "총 문자 개수 :  1\n",
      "몇번째 문장 분석?? : a\n"
     ]
    }
   ],
   "source": [
    "temp = {}                                            # 품사 빈도 분석을 위한 새로운 딕셔너리 초기화\n",
    "for i in range(len(tagged_list2)):\n",
    "    if tagged_list2[i][0] in tag_list:\n",
    "        if tagged_list2[i][0] in temp.keys():        # 개수 딕셔너리에 저장\n",
    "            temp[tagged_list2[i][0]] += 1\n",
    "        else : \n",
    "            temp[tagged_list2[i][0]] = 1\n",
    "print(temp)\n",
    "print(int(num),\"번째 문장까지 분석\\n\")\n",
    "print(\"문장 개수를 벗어나는 숫자나 문자 아무거나 입력하면 에러뜨면서 끝나요\")\n",
    "print(\"총 문자 개수 : \", len(readline))\n",
    "num = input(\"몇번째 문장 분석?? : \")"
   ]
  },
  {
   "cell_type": "code",
   "execution_count": 40,
   "metadata": {},
   "outputs": [
    {
     "name": "stdout",
     "output_type": "stream",
     "text": [
      "Grand Total Score =  0.0\n",
      "총 문장 개수 :  1\n",
      "몇번째 문장 분석?? : 0\n"
     ]
    }
   ],
   "source": []
  }
 ],
 "metadata": {
  "kernelspec": {
   "display_name": "Python 3",
   "language": "python",
   "name": "python3"
  },
  "language_info": {
   "codemirror_mode": {
    "name": "ipython",
    "version": 3
   },
   "file_extension": ".py",
   "mimetype": "text/x-python",
   "name": "python",
   "nbconvert_exporter": "python",
   "pygments_lexer": "ipython3",
   "version": "3.8.5"
  }
 },
 "nbformat": 4,
 "nbformat_minor": 4
}
